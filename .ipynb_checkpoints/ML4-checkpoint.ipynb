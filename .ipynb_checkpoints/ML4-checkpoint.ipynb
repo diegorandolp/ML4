{
 "cells": [
  {
   "cell_type": "code",
   "id": "initial_id",
   "metadata": {
    "collapsed": true,
    "ExecuteTime": {
     "end_time": "2024-11-21T09:01:28.626551Z",
     "start_time": "2024-11-21T09:01:28.471328Z"
    }
   },
   "source": [
    "import numpy as np\n",
    "from scipy.spatial import KDTree\n",
    "from statistics import mode\n",
    "import pickle\n",
    "import pandas as pd\n",
    "from sklearn import preprocessing\n",
    "from sklearn.decomposition import PCA\n",
    "import matplotlib.pyplot as plt\n",
    "import seaborn as sns\n",
    "from sklearn.metrics import confusion_matrix, accuracy_score, precision_score, recall_score, f1_score"
   ],
   "outputs": [],
   "execution_count": 58
  },
  {
   "metadata": {
    "ExecuteTime": {
     "end_time": "2024-11-21T08:10:14.825976Z",
     "start_time": "2024-11-21T08:10:14.821422Z"
    }
   },
   "cell_type": "code",
   "source": [
    "class NearestNeighbor:\n",
    "    def __init__(self):\n",
    "        self.tree = None\n",
    "        self.y_train = None\n",
    "\n",
    "    def fit(self, X_train, y_train):\n",
    "      # for loop for inserting x_train inside ds\n",
    "        self.tree = KDTree(X_train)\n",
    "        self.y_train = np.array(y_train)\n",
    "\n",
    "    def predict(self, X_test, k = 10):\n",
    "      # calls find function of kdtree that looks for the NNs for x_test\n",
    "      # label is the one that has 0 dist\n",
    "        d, index = self.tree.query(X_test, k)\n",
    "        # return y_train[index] so we know the predicted label\n",
    "        labels = []\n",
    "        for i in index:\n",
    "          labels.append(self.y_train[i]) # adds labels of found NNs\n",
    "\n",
    "        return mode(labels) # returns most frequent label amongst found NNs"
   ],
   "id": "17e7d096d1ad388e",
   "outputs": [],
   "execution_count": 2
  },
  {
   "metadata": {},
   "cell_type": "markdown",
   "source": "## EDA",
   "id": "1ce86898dd6b9274"
  },
  {
   "metadata": {
    "ExecuteTime": {
     "end_time": "2024-11-21T08:57:56.165677Z",
     "start_time": "2024-11-21T08:57:56.148813Z"
    }
   },
   "cell_type": "code",
   "source": [
    "df_train_labels = pd.read_csv(r'.\\train.csv')\n",
    "df_train_labels.head()"
   ],
   "id": "2ff1559045c509c4",
   "outputs": [
    {
     "data": {
      "text/plain": [
       "   idx       class\n",
       "0    0     NoWhale\n",
       "1    1  RightWhale\n",
       "2    2     NoWhale\n",
       "3    3     NoWhale\n",
       "4    4     NoWhale"
      ],
      "text/html": [
       "<div>\n",
       "<style scoped>\n",
       "    .dataframe tbody tr th:only-of-type {\n",
       "        vertical-align: middle;\n",
       "    }\n",
       "\n",
       "    .dataframe tbody tr th {\n",
       "        vertical-align: top;\n",
       "    }\n",
       "\n",
       "    .dataframe thead th {\n",
       "        text-align: right;\n",
       "    }\n",
       "</style>\n",
       "<table border=\"1\" class=\"dataframe\">\n",
       "  <thead>\n",
       "    <tr style=\"text-align: right;\">\n",
       "      <th></th>\n",
       "      <th>idx</th>\n",
       "      <th>class</th>\n",
       "    </tr>\n",
       "  </thead>\n",
       "  <tbody>\n",
       "    <tr>\n",
       "      <th>0</th>\n",
       "      <td>0</td>\n",
       "      <td>NoWhale</td>\n",
       "    </tr>\n",
       "    <tr>\n",
       "      <th>1</th>\n",
       "      <td>1</td>\n",
       "      <td>RightWhale</td>\n",
       "    </tr>\n",
       "    <tr>\n",
       "      <th>2</th>\n",
       "      <td>2</td>\n",
       "      <td>NoWhale</td>\n",
       "    </tr>\n",
       "    <tr>\n",
       "      <th>3</th>\n",
       "      <td>3</td>\n",
       "      <td>NoWhale</td>\n",
       "    </tr>\n",
       "    <tr>\n",
       "      <th>4</th>\n",
       "      <td>4</td>\n",
       "      <td>NoWhale</td>\n",
       "    </tr>\n",
       "  </tbody>\n",
       "</table>\n",
       "</div>"
      ]
     },
     "execution_count": 43,
     "metadata": {},
     "output_type": "execute_result"
    }
   ],
   "execution_count": 43
  },
  {
   "metadata": {
    "ExecuteTime": {
     "end_time": "2024-11-21T08:57:57.512663Z",
     "start_time": "2024-11-21T08:57:57.497633Z"
    }
   },
   "cell_type": "code",
   "source": "df_train_labels.info()",
   "id": "eba9124f784cd0d0",
   "outputs": [
    {
     "name": "stdout",
     "output_type": "stream",
     "text": [
      "<class 'pandas.core.frame.DataFrame'>\n",
      "RangeIndex: 10934 entries, 0 to 10933\n",
      "Data columns (total 2 columns):\n",
      " #   Column  Non-Null Count  Dtype \n",
      "---  ------  --------------  ----- \n",
      " 0   idx     10934 non-null  int64 \n",
      " 1   class   10934 non-null  object\n",
      "dtypes: int64(1), object(1)\n",
      "memory usage: 171.0+ KB\n"
     ]
    }
   ],
   "execution_count": 44
  },
  {
   "metadata": {
    "ExecuteTime": {
     "end_time": "2024-11-21T08:57:58.990186Z",
     "start_time": "2024-11-21T08:57:58.985515Z"
    }
   },
   "cell_type": "code",
   "source": "df_train_labels['class'].unique()",
   "id": "da9167defacf4e78",
   "outputs": [
    {
     "data": {
      "text/plain": [
       "array(['NoWhale', 'RightWhale'], dtype=object)"
      ]
     },
     "execution_count": 45,
     "metadata": {},
     "output_type": "execute_result"
    }
   ],
   "execution_count": 45
  },
  {
   "metadata": {
    "ExecuteTime": {
     "end_time": "2024-11-21T08:58:00.073922Z",
     "start_time": "2024-11-21T08:58:00.067414Z"
    }
   },
   "cell_type": "code",
   "source": [
    "label_encoder = preprocessing.LabelEncoder()\n",
    "df_train_labels['class'] = label_encoder.fit_transform(df_train_labels['class'])\n",
    "df_train_labels.head()\n",
    "# 0 : NoWhale\n",
    "# 1 : RightWhale"
   ],
   "id": "3eb0351ba35dbb7c",
   "outputs": [
    {
     "data": {
      "text/plain": [
       "   idx  class\n",
       "0    0      0\n",
       "1    1      1\n",
       "2    2      0\n",
       "3    3      0\n",
       "4    4      0"
      ],
      "text/html": [
       "<div>\n",
       "<style scoped>\n",
       "    .dataframe tbody tr th:only-of-type {\n",
       "        vertical-align: middle;\n",
       "    }\n",
       "\n",
       "    .dataframe tbody tr th {\n",
       "        vertical-align: top;\n",
       "    }\n",
       "\n",
       "    .dataframe thead th {\n",
       "        text-align: right;\n",
       "    }\n",
       "</style>\n",
       "<table border=\"1\" class=\"dataframe\">\n",
       "  <thead>\n",
       "    <tr style=\"text-align: right;\">\n",
       "      <th></th>\n",
       "      <th>idx</th>\n",
       "      <th>class</th>\n",
       "    </tr>\n",
       "  </thead>\n",
       "  <tbody>\n",
       "    <tr>\n",
       "      <th>0</th>\n",
       "      <td>0</td>\n",
       "      <td>0</td>\n",
       "    </tr>\n",
       "    <tr>\n",
       "      <th>1</th>\n",
       "      <td>1</td>\n",
       "      <td>1</td>\n",
       "    </tr>\n",
       "    <tr>\n",
       "      <th>2</th>\n",
       "      <td>2</td>\n",
       "      <td>0</td>\n",
       "    </tr>\n",
       "    <tr>\n",
       "      <th>3</th>\n",
       "      <td>3</td>\n",
       "      <td>0</td>\n",
       "    </tr>\n",
       "    <tr>\n",
       "      <th>4</th>\n",
       "      <td>4</td>\n",
       "      <td>0</td>\n",
       "    </tr>\n",
       "  </tbody>\n",
       "</table>\n",
       "</div>"
      ]
     },
     "execution_count": 46,
     "metadata": {},
     "output_type": "execute_result"
    }
   ],
   "execution_count": 46
  },
  {
   "metadata": {
    "ExecuteTime": {
     "end_time": "2024-11-21T08:59:07.238268Z",
     "start_time": "2024-11-21T08:59:07.234639Z"
    }
   },
   "cell_type": "code",
   "source": "y_train_labels = np.array(df_train_labels['class'])",
   "id": "5947c5c654cf90ab",
   "outputs": [],
   "execution_count": 55
  },
  {
   "metadata": {},
   "cell_type": "markdown",
   "source": "## Feature processing",
   "id": "76a6d202bef2de27"
  },
  {
   "metadata": {
    "ExecuteTime": {
     "end_time": "2024-11-21T08:58:02.277750Z",
     "start_time": "2024-11-21T08:58:02.227092Z"
    }
   },
   "cell_type": "code",
   "source": [
    "with open ('train_features_mfcc.pkl', 'rb') as file:\n",
    "    features_mfcc = pickle.load(file)"
   ],
   "id": "90584b9b1bfac06e",
   "outputs": [],
   "execution_count": 47
  },
  {
   "metadata": {
    "ExecuteTime": {
     "end_time": "2024-11-21T08:58:05.380332Z",
     "start_time": "2024-11-21T08:58:05.376827Z"
    }
   },
   "cell_type": "code",
   "source": "print(type(features_mfcc))",
   "id": "f9b330fe99820522",
   "outputs": [
    {
     "name": "stdout",
     "output_type": "stream",
     "text": [
      "<class 'numpy.ndarray'>\n"
     ]
    }
   ],
   "execution_count": 48
  },
  {
   "metadata": {
    "ExecuteTime": {
     "end_time": "2024-11-21T08:58:06.841549Z",
     "start_time": "2024-11-21T08:58:06.494478Z"
    }
   },
   "cell_type": "code",
   "source": [
    "features_mfcc_flat = []\n",
    "for i, feature in enumerate(features_mfcc):\n",
    "    temp_feature = []\n",
    "    for local_feature in feature:\n",
    "        temp_feature = np.concatenate((temp_feature, local_feature), axis=None)\n",
    "    features_mfcc_flat.append(temp_feature)"
   ],
   "id": "db379be06bf3ea32",
   "outputs": [],
   "execution_count": 49
  },
  {
   "metadata": {
    "ExecuteTime": {
     "end_time": "2024-11-21T08:58:08.190041Z",
     "start_time": "2024-11-21T08:58:08.138899Z"
    }
   },
   "cell_type": "code",
   "source": [
    "features_mfcc_flat = np.array(features_mfcc_flat)\n",
    "print(features_mfcc_flat.shape)"
   ],
   "id": "36242e1a072978f5",
   "outputs": [
    {
     "name": "stdout",
     "output_type": "stream",
     "text": [
      "(10934, 1740)\n"
     ]
    }
   ],
   "execution_count": 50
  },
  {
   "metadata": {},
   "cell_type": "markdown",
   "source": "## Normalization",
   "id": "4fcdc97ce265615"
  },
  {
   "metadata": {
    "ExecuteTime": {
     "end_time": "2024-11-21T08:58:09.991672Z",
     "start_time": "2024-11-21T08:58:09.895151Z"
    }
   },
   "cell_type": "code",
   "source": "features_mfcc_flat = (features_mfcc_flat - features_mfcc_flat.min(axis=0)) / (features_mfcc_flat.max(axis=0) - features_mfcc_flat.min(axis=0))",
   "id": "1ea2ca90bbddb4e",
   "outputs": [],
   "execution_count": 51
  },
  {
   "metadata": {},
   "cell_type": "markdown",
   "source": "## PCA",
   "id": "475e6f2e1adf7c57"
  },
  {
   "metadata": {
    "ExecuteTime": {
     "end_time": "2024-11-21T08:58:14.897690Z",
     "start_time": "2024-11-21T08:58:14.287850Z"
    }
   },
   "cell_type": "code",
   "source": [
    "pca = PCA(n_components=200)\n",
    "pca.fit(features_mfcc_flat)\n",
    "explained_variance_cumsum = np.cumsum(pca.explained_variance_ratio_)\n",
    "\n",
    "n_components_above_90 = np.argmax(explained_variance_cumsum >= 0.9) + 1\n",
    "print(n_components_above_90)"
   ],
   "id": "cec3447aef89469e",
   "outputs": [
    {
     "name": "stdout",
     "output_type": "stream",
     "text": [
      "103\n"
     ]
    }
   ],
   "execution_count": 52
  },
  {
   "metadata": {
    "ExecuteTime": {
     "end_time": "2024-11-21T08:58:21.159933Z",
     "start_time": "2024-11-21T08:58:20.664066Z"
    }
   },
   "cell_type": "code",
   "source": [
    "pca = PCA(n_components=n_components_above_90)\n",
    "features_mfcc_flat = pca.fit_transform(features_mfcc_flat)"
   ],
   "id": "59c388e023c58586",
   "outputs": [],
   "execution_count": 53
  },
  {
   "metadata": {
    "ExecuteTime": {
     "end_time": "2024-11-21T08:58:22.026118Z",
     "start_time": "2024-11-21T08:58:22.022466Z"
    }
   },
   "cell_type": "code",
   "source": "print(features_mfcc_flat.shape)",
   "id": "c2308ea9bc14370c",
   "outputs": [
    {
     "name": "stdout",
     "output_type": "stream",
     "text": [
      "(10934, 103)\n"
     ]
    }
   ],
   "execution_count": 54
  },
  {
   "metadata": {
    "ExecuteTime": {
     "end_time": "2024-11-21T08:59:18.514958Z",
     "start_time": "2024-11-21T08:59:18.497280Z"
    }
   },
   "cell_type": "code",
   "source": [
    "nn = NearestNeighbor()\n",
    "nn.fit(features_mfcc_flat, y_train_labels)"
   ],
   "id": "48a9d973c246961b",
   "outputs": [],
   "execution_count": 56
  },
  {
   "metadata": {
    "ExecuteTime": {
     "end_time": "2024-11-21T09:00:47.555432Z",
     "start_time": "2024-11-21T09:00:44.504809Z"
    }
   },
   "cell_type": "code",
   "source": [
    "y_preds = []\n",
    "for i in range(len(features_mfcc_flat)):\n",
    "    y_pred = nn.predict(features_mfcc_flat[i], 10)\n",
    "    y_preds.append(y_pred)\n"
   ],
   "id": "80a57c56fe89b6ef",
   "outputs": [],
   "execution_count": 57
  },
  {
   "metadata": {
    "ExecuteTime": {
     "end_time": "2024-11-21T09:02:23.172537Z",
     "start_time": "2024-11-21T09:02:23.148037Z"
    }
   },
   "cell_type": "code",
   "source": [
    "accuracy= accuracy_score(y_train_labels,y_preds)\n",
    "presicion= precision_score(y_train_labels,y_preds,average='macro')\n",
    "recall= recall_score(y_train_labels,y_preds, average='macro'  )\n",
    "score= f1_score(y_train_labels,y_preds,average='macro')\n",
    "\n",
    "print(\"Presicion: : \",presicion)\n",
    "print(\"Recall: \",recall)\n",
    "print(\"F1_Score: \",score)\n",
    "print(\"Accuracy: \",accuracy)"
   ],
   "id": "5de563c64fb3d55e",
   "outputs": [
    {
     "name": "stdout",
     "output_type": "stream",
     "text": [
      "Presicion: :  0.7501369939730691\n",
      "Recall:  0.7498628132430949\n",
      "F1_Score:  0.7497942492191343\n",
      "Accuracy:  0.7498628132430949\n"
     ]
    }
   ],
   "execution_count": 59
  },
  {
   "metadata": {},
   "cell_type": "code",
   "outputs": [],
   "execution_count": null,
   "source": "",
   "id": "a9c5beec3f4502b1"
  }
 ],
 "metadata": {
  "kernelspec": {
   "display_name": "Python 3",
   "language": "python",
   "name": "python3"
  },
  "language_info": {
   "codemirror_mode": {
    "name": "ipython",
    "version": 2
   },
   "file_extension": ".py",
   "mimetype": "text/x-python",
   "name": "python",
   "nbconvert_exporter": "python",
   "pygments_lexer": "ipython2",
   "version": "2.7.6"
  }
 },
 "nbformat": 4,
 "nbformat_minor": 5
}
