{
 "cells": [
  {
   "metadata": {},
   "cell_type": "code",
   "source": [
    "import os\n",
    "import torch\n",
    "import torchaudio\n",
    "import IPython.display as ipd\n",
    "# import matplotlib\n",
    "# matplotlib.use('qt5agg')\n",
    "import matplotlib.pyplot as plt\n",
    "import numpy as np\n",
    "from torch.utils.data import Dataset, DataLoader\n",
    "from pathlib import Path\n",
    "import soundfile as sf\n",
    "import pandas as pd\n",
    "from torchaudio.compliance.kaldi import spectrogram"
   ],
   "id": "7c8f57c5ee1de97c",
   "outputs": [],
   "execution_count": null
  },
  {
   "metadata": {},
   "cell_type": "code",
   "source": "plt.close('all')",
   "id": "c7b9c67525cc1145",
   "outputs": [],
   "execution_count": null
  },
  {
   "metadata": {},
   "cell_type": "markdown",
   "source": "# CNN with images of spectrograms",
   "id": "bdeb48bae32ff5d6"
  },
  {
   "metadata": {},
   "cell_type": "markdown",
   "source": "# Explore noWhale",
   "id": "6a109a82f945bc22"
  },
  {
   "cell_type": "code",
   "id": "initial_id",
   "metadata": {
    "collapsed": true
   },
   "source": [
    "# NoWhale\n",
    "waveform_noWhale, sr_noWhale = torchaudio.load(r'.\\train\\train\\0.wav')\n",
    "\n",
    "print(type(waveform_noWhale))\n",
    "print(type(sr_noWhale))\n",
    "print(waveform_noWhale.shape)\n",
    "# 2000 data points per second, in total 4000 data points\n",
    "print(sr_noWhale)\n"
   ],
   "outputs": [],
   "execution_count": null
  },
  {
   "metadata": {},
   "cell_type": "code",
   "source": [
    "plt.figure()\n",
    "plt.plot(waveform_noWhale.t().numpy())"
   ],
   "id": "4880bacd6cc777c5",
   "outputs": [],
   "execution_count": null
  },
  {
   "metadata": {},
   "cell_type": "code",
   "source": [
    "# Spectrogram\n",
    "spectrogram_noWhale = torchaudio.transforms.Spectrogram()(waveform_noWhale)\n",
    "# plot the spectrogram\n",
    "plt.figure()\n",
    "# scale the values with log2 and then select the first channel\n",
    "plt.imshow(spectrogram_noWhale.log2()[0,:,:].numpy(), cmap='viridis')"
   ],
   "id": "156f829480097ea3",
   "outputs": [],
   "execution_count": null
  },
  {
   "metadata": {},
   "cell_type": "markdown",
   "source": "## Explore RightWhale",
   "id": "2595de5e840e2b16"
  },
  {
   "metadata": {},
   "cell_type": "code",
   "source": [
    "# audio RightWhale\n",
    "waveform_rightWhale, sr_rightWhale = torchaudio.load(r'.\\train\\train\\1.wav')\n",
    "\n",
    "print(type(waveform_rightWhale))\n",
    "print(type(sr_rightWhale))\n",
    "print(waveform_rightWhale.shape)\n",
    "# 2000 data points per second, in total 4000 data points\n",
    "print(sr_rightWhale)\n",
    "\n"
   ],
   "id": "4a7b1f9fcc859425",
   "outputs": [],
   "execution_count": null
  },
  {
   "metadata": {},
   "cell_type": "code",
   "source": [
    "plt.figure()\n",
    "plt.plot(waveform_rightWhale.t().numpy())\n"
   ],
   "id": "ac3943f4e7e708af",
   "outputs": [],
   "execution_count": null
  },
  {
   "metadata": {},
   "cell_type": "code",
   "source": [
    "# Spectrogram\n",
    "spectrogram_rightWhale = torchaudio.transforms.Spectrogram()(waveform_rightWhale)\n",
    "# plot the spectrogram\n",
    "plt.figure()\n",
    "# scale the values with log2 and then select the first channel\n",
    "plt.imshow(spectrogram_rightWhale.log2()[0,:,:].numpy(), cmap='viridis')\n"
   ],
   "id": "67b5f2ffda5b8e44",
   "outputs": [],
   "execution_count": null
  },
  {
   "metadata": {},
   "cell_type": "markdown",
   "source": "## Load data",
   "id": "2114a13bf0c228f8"
  },
  {
   "metadata": {},
   "cell_type": "code",
   "source": [
    "# collect all the paths in the train folder\n",
    "sound_files = os.listdir(r'.\\train\\train')\n",
    "df_labels = pd.read_csv(r'.\\train.csv')\n",
    "print(len(sound_files))"
   ],
   "id": "2b77bfc007e3519a",
   "outputs": [],
   "execution_count": null
  },
  {
   "metadata": {},
   "cell_type": "code",
   "source": [
    "# get labels\n",
    "train_labels = df_labels['class'].to_numpy()\n",
    "print(train_labels[:10])\n",
    "print(len(train_labels))"
   ],
   "id": "6c60e0148565ed27",
   "outputs": [],
   "execution_count": null
  },
  {
   "metadata": {},
   "cell_type": "code",
   "source": [
    "# remove the audios that are not valid\n",
    "idx_labeled_audio_files = df_labels['idx'].to_numpy()\n",
    "available_audio_files = []\n",
    "for file in sound_files:\n",
    "    try:\n",
    "        idx = int(file.split('.')[0])\n",
    "        available_audio_files.append(idx)\n",
    "    except:\n",
    "        print(\"Invalid file: \", file)"
   ],
   "id": "2f867cc5c6ac52ea",
   "outputs": [],
   "execution_count": null
  },
  {
   "metadata": {},
   "cell_type": "code",
   "source": [
    "available_audio_files = sorted(available_audio_files)\n",
    "print(available_audio_files[:5])"
   ],
   "id": "679163c3a400e924",
   "outputs": [],
   "execution_count": null
  },
  {
   "metadata": {},
   "cell_type": "code",
   "source": [
    "# split the valid audio files into noWhale and RightWhale\n",
    "noWhale_paths = []\n",
    "rightWhale_paths = []\n",
    "# assign the paths to the corresponding label\n",
    "for idx in available_audio_files:\n",
    "    if train_labels[idx] == 'NoWhale':\n",
    "        noWhale_paths.append(idx)\n",
    "    elif train_labels[idx] == 'RightWhale':\n",
    "        rightWhale_paths.append(idx)\n",
    "    else:\n",
    "        print(\"Invalid label: \", train_labels[idx])\n",
    "\n",
    "print(len(noWhale_paths))\n",
    "print(len(rightWhale_paths))"
   ],
   "id": "23d7d692f474d51b",
   "outputs": [],
   "execution_count": null
  },
  {
   "metadata": {},
   "cell_type": "code",
   "source": [
    "# get the complete path of the valid audio files\n",
    "noWhale_paths = [os.path.join(r'.\\train\\train', str(file) + '.wav') for file in noWhale_paths] \n",
    "rightWhale_paths = [os.path.join(r'.\\train\\train', str(file) + '.wav') for file in rightWhale_paths]\n",
    "print(noWhale_paths[:5])\n",
    "print(rightWhale_paths[:5])"
   ],
   "id": "2862960e37edd943",
   "outputs": [],
   "execution_count": null
  },
  {
   "metadata": {},
   "cell_type": "markdown",
   "source": "## Process data : Get images",
   "id": "be3e16a99718d852"
  },
  {
   "metadata": {},
   "cell_type": "code",
   "source": [
    "if not os.path.exists(r'.\\train_images_spectrogram'):\n",
    "    os.makedirs(r'.\\train_images_spectrogram\\noWhale')\n",
    "    os.makedirs(r'.\\train_images_spectrogram\\rightWhale')"
   ],
   "id": "197197e1c463c97c",
   "outputs": [],
   "execution_count": null
  },
  {
   "metadata": {},
   "cell_type": "code",
   "source": [
    "# save the spectrogram images of the noWhale\n",
    "\n",
    "for j, path in enumerate(noWhale_paths):\n",
    "    if j % 1000 == 0:\n",
    "        print(j)\n",
    "    idx = int(path.split('\\\\')[-1].split('.')[0])\n",
    "    waveform, sr = torchaudio.load(path)\n",
    "    \n",
    "    spectrogram_noWhale = torchaudio.transforms.Spectrogram()(waveform)\n",
    "    spectrogram_path = os.path.join(r'.\\train_images_spectrogram\\noWhale', str(idx) + '.png')\n",
    "    # scale the values with log2 and then select the first channel\n",
    "   \n",
    "    plt.imsave(spectrogram_path, spectrogram_noWhale.log2()[0,:,:].numpy(), cmap='viridis')\n",
    "    j = j + 1\n"
   ],
   "id": "37d96556a499228",
   "outputs": [],
   "execution_count": null
  },
  {
   "metadata": {},
   "cell_type": "code",
   "source": [
    "\n",
    "# save the spectrogram images of the rightWhale\n",
    "\n",
    "for j, path in enumerate(rightWhale_paths):\n",
    "    if j % 1000 == 0:\n",
    "        print(j)\n",
    "    idx = int(path.split('\\\\')[-1].split('.')[0])\n",
    "    waveform, sr = torchaudio.load(path)\n",
    "\n",
    "    spectrogram_rightWhale = torchaudio.transforms.Spectrogram()(waveform)\n",
    "    spectrogram_path = os.path.join(r'.\\train_images_spectrogram\\rightWhale', str(idx) + '.png')\n",
    "    # scale the values with log2 and then select the first channel\n",
    "\n",
    "    plt.imsave(spectrogram_path, spectrogram_rightWhale.log2()[0,:,:].numpy(), cmap='viridis')\n",
    "    j = j + 1\n",
    "\n"
   ],
   "id": "7cf1d081771c9fea",
   "outputs": [],
   "execution_count": null
  },
  {
   "metadata": {},
   "cell_type": "code",
   "source": "# save in labeled directories to apply ImageFolder",
   "id": "e1418a7df128e05c",
   "outputs": [],
   "execution_count": null
  }
 ],
 "metadata": {
  "kernelspec": {
   "display_name": "Python 3",
   "language": "python",
   "name": "python3"
  },
  "language_info": {
   "codemirror_mode": {
    "name": "ipython",
    "version": 2
   },
   "file_extension": ".py",
   "mimetype": "text/x-python",
   "name": "python",
   "nbconvert_exporter": "python",
   "pygments_lexer": "ipython2",
   "version": "2.7.6"
  }
 },
 "nbformat": 4,
 "nbformat_minor": 5
}
